{
 "cells": [
  {
   "cell_type": "code",
   "execution_count": 25,
   "id": "b8d60843-ae80-4eeb-a876-baadc8eca8ee",
   "metadata": {},
   "outputs": [],
   "source": [
    "import pandas as pd\n",
    "import numpy as np\n",
    "import re\n",
    "import matplotlib.pyplot as plt\n",
    "import seaborn as sns\n",
    "from wordcloud import WordCloud\n",
    "from textblob import TextBlob\n",
    "import nltk\n",
    "from nltk.sentiment import SentimentIntensityAnalyzer\n",
    "from googleapiclient.discovery import build\n",
    "from googleapiclient.errors import HttpError\n",
    "import csv\n",
    "\n",
    "YOUTUBE_API_KEY = \"\"Your API Key\"\n"
   ]
  },
  {
   "cell_type": "code",
   "execution_count": 60,
   "id": "5346a2d3-aa03-4d84-9b82-1d71f3a96f9a",
   "metadata": {},
   "outputs": [],
   "source": [
    "def get_youtube_comments(video_id, max_comments=100):\n",
    "    youtube = build('youtube', 'v3', developerKey=YOUTUBE_API_KEY)\n",
    "    comments_data = []\n",
    "    \n",
    "    try:\n",
    "        request = youtube.commentThreads().list(\n",
    "            part=\"snippet\",\n",
    "            videoId=video_id,\n",
    "            maxResults=100\n",
    "        )\n",
    "        response = request.execute()\n",
    "\n",
    "        for item in response.get(\"items\", []):\n",
    "            comment = item[\"snippet\"][\"topLevelComment\"][\"snippet\"]\n",
    "            comments_data.append({\n",
    "                \"video_id\": video_id,\n",
    "                \"comment\": comment[\"textDisplay\"],\n",
    "                \"author\": comment[\"authorDisplayName\"],\n",
    "                \"published_at\": comment[\"publishedAt\"],\n",
    "                \"like_count\": comment[\"likeCount\"]\n",
    "            })\n",
    "            if len(comments_data) >= max_comments:\n",
    "                break\n",
    "    \n",
    "    except HttpError as e:\n",
    "        print(f\"Error fetching comments for Video ID {video_id}: {e}\")\n",
    "    \n",
    "    return comments_data\n"
   ]
  },
  {
   "cell_type": "code",
   "execution_count": 61,
   "id": "7a9940d0-eb04-41c0-80b6-ff5a4c14ba48",
   "metadata": {},
   "outputs": [
    {
     "name": "stdout",
     "output_type": "stream",
     "text": [
      "Extracting comments for Video ID: Way9Dexny3w...\n",
      "Extracting comments for Video ID: 73_1biulkYk...\n",
      "Extracting comments for Video ID: RFLLuoBCM9I...\n",
      "Extracting comments for Video ID: 77vRyWNqZjM...\n",
      "Extracting comments for Video ID: 3x77q40hATw...\n"
     ]
    }
   ],
   "source": [
    "# Collect comments for multiple trailers\n",
    "video_ids = [\"Way9Dexny3w\", \"73_1biulkYk\", \"RFLLuoBCM9I\", \"77vRyWNqZjM\", \"3x77q40hATw\"]\n",
    "all_comments = []\n",
    "for video_id in video_ids:\n",
    "    print(f\"Extracting comments for Video ID: {video_id}...\")\n",
    "    all_comments.extend(get_youtube_comments(video_id))\n"
   ]
  },
  {
   "cell_type": "code",
   "execution_count": 62,
   "id": "3e171e6c-6a76-4e3c-9d38-320d613825be",
   "metadata": {},
   "outputs": [],
   "source": [
    "df = pd.DataFrame(all_comments)\n",
    "df.to_csv(\"raw_comments.csv\", index=False)\n"
   ]
  },
  {
   "cell_type": "code",
   "execution_count": 63,
   "id": "9134559a-3f74-48f8-a612-bd8e1fb12db6",
   "metadata": {},
   "outputs": [
    {
     "data": {
      "text/html": [
       "<div>\n",
       "<style scoped>\n",
       "    .dataframe tbody tr th:only-of-type {\n",
       "        vertical-align: middle;\n",
       "    }\n",
       "\n",
       "    .dataframe tbody tr th {\n",
       "        vertical-align: top;\n",
       "    }\n",
       "\n",
       "    .dataframe thead th {\n",
       "        text-align: right;\n",
       "    }\n",
       "</style>\n",
       "<table border=\"1\" class=\"dataframe\">\n",
       "  <thead>\n",
       "    <tr style=\"text-align: right;\">\n",
       "      <th></th>\n",
       "      <th>video_id</th>\n",
       "      <th>comment</th>\n",
       "      <th>author</th>\n",
       "      <th>published_at</th>\n",
       "      <th>like_count</th>\n",
       "    </tr>\n",
       "  </thead>\n",
       "  <tbody>\n",
       "    <tr>\n",
       "      <th>0</th>\n",
       "      <td>Way9Dexny3w</td>\n",
       "      <td>I have started this movie at 11:40 am today</td>\n",
       "      <td>@electramaze1</td>\n",
       "      <td>2025-02-13T20:17:10Z</td>\n",
       "      <td>0</td>\n",
       "    </tr>\n",
       "    <tr>\n",
       "      <th>1</th>\n",
       "      <td>Way9Dexny3w</td>\n",
       "      <td>&lt;a href=\"https://www.youtube.com/watch?v=Way9D...</td>\n",
       "      <td>@T05H18A1037</td>\n",
       "      <td>2025-02-13T10:46:14Z</td>\n",
       "      <td>0</td>\n",
       "    </tr>\n",
       "    <tr>\n",
       "      <th>2</th>\n",
       "      <td>Way9Dexny3w</td>\n",
       "      <td>Part 3...can&amp;#39;t wait!!!!!!!!</td>\n",
       "      <td>@svenheimes2494</td>\n",
       "      <td>2025-02-11T20:16:57Z</td>\n",
       "      <td>1</td>\n",
       "    </tr>\n",
       "    <tr>\n",
       "      <th>3</th>\n",
       "      <td>Way9Dexny3w</td>\n",
       "      <td>Wasn&amp;#39;t happy.  It killed 3 hours, but that...</td>\n",
       "      <td>@merlinambrosius2554</td>\n",
       "      <td>2025-02-09T02:16:44Z</td>\n",
       "      <td>0</td>\n",
       "    </tr>\n",
       "    <tr>\n",
       "      <th>4</th>\n",
       "      <td>Way9Dexny3w</td>\n",
       "      <td>chani so tuff</td>\n",
       "      <td>@YTBennettfn</td>\n",
       "      <td>2025-02-08T19:21:43Z</td>\n",
       "      <td>0</td>\n",
       "    </tr>\n",
       "    <tr>\n",
       "      <th>...</th>\n",
       "      <td>...</td>\n",
       "      <td>...</td>\n",
       "      <td>...</td>\n",
       "      <td>...</td>\n",
       "      <td>...</td>\n",
       "    </tr>\n",
       "    <tr>\n",
       "      <th>468</th>\n",
       "      <td>3x77q40hATw</td>\n",
       "      <td>&lt;a href=\"https://www.youtube.com/watch?v=M4HhE...</td>\n",
       "      <td>@RKyoutubervillagevlogs-777</td>\n",
       "      <td>2025-02-10T06:41:30Z</td>\n",
       "      <td>0</td>\n",
       "    </tr>\n",
       "    <tr>\n",
       "      <th>469</th>\n",
       "      <td>3x77q40hATw</td>\n",
       "      <td>Acting super hai hero ki., but. Hero hi villan...</td>\n",
       "      <td>@Raahe-deen786</td>\n",
       "      <td>2025-02-10T04:24:38Z</td>\n",
       "      <td>0</td>\n",
       "    </tr>\n",
       "    <tr>\n",
       "      <th>470</th>\n",
       "      <td>3x77q40hATw</td>\n",
       "      <td>Nice picture follow me help</td>\n",
       "      <td>@SanjayGiri-f5j</td>\n",
       "      <td>2025-02-10T03:16:53Z</td>\n",
       "      <td>0</td>\n",
       "    </tr>\n",
       "    <tr>\n",
       "      <th>471</th>\n",
       "      <td>3x77q40hATw</td>\n",
       "      <td>Bakwas movie</td>\n",
       "      <td>@HamaraBharat-k8i</td>\n",
       "      <td>2025-02-10T00:14:21Z</td>\n",
       "      <td>0</td>\n",
       "    </tr>\n",
       "    <tr>\n",
       "      <th>472</th>\n",
       "      <td>3x77q40hATw</td>\n",
       "      <td>Shahid kapoor❤</td>\n",
       "      <td>@unboxinghasa</td>\n",
       "      <td>2025-02-09T21:16:06Z</td>\n",
       "      <td>1</td>\n",
       "    </tr>\n",
       "  </tbody>\n",
       "</table>\n",
       "<p>473 rows × 5 columns</p>\n",
       "</div>"
      ],
      "text/plain": [
       "        video_id                                            comment  \\\n",
       "0    Way9Dexny3w        I have started this movie at 11:40 am today   \n",
       "1    Way9Dexny3w  <a href=\"https://www.youtube.com/watch?v=Way9D...   \n",
       "2    Way9Dexny3w                    Part 3...can&#39;t wait!!!!!!!!   \n",
       "3    Way9Dexny3w  Wasn&#39;t happy.  It killed 3 hours, but that...   \n",
       "4    Way9Dexny3w                                      chani so tuff   \n",
       "..           ...                                                ...   \n",
       "468  3x77q40hATw  <a href=\"https://www.youtube.com/watch?v=M4HhE...   \n",
       "469  3x77q40hATw  Acting super hai hero ki., but. Hero hi villan...   \n",
       "470  3x77q40hATw                        Nice picture follow me help   \n",
       "471  3x77q40hATw                                       Bakwas movie   \n",
       "472  3x77q40hATw                                     Shahid kapoor❤   \n",
       "\n",
       "                          author          published_at  like_count  \n",
       "0                  @electramaze1  2025-02-13T20:17:10Z           0  \n",
       "1                   @T05H18A1037  2025-02-13T10:46:14Z           0  \n",
       "2                @svenheimes2494  2025-02-11T20:16:57Z           1  \n",
       "3           @merlinambrosius2554  2025-02-09T02:16:44Z           0  \n",
       "4                   @YTBennettfn  2025-02-08T19:21:43Z           0  \n",
       "..                           ...                   ...         ...  \n",
       "468  @RKyoutubervillagevlogs-777  2025-02-10T06:41:30Z           0  \n",
       "469               @Raahe-deen786  2025-02-10T04:24:38Z           0  \n",
       "470              @SanjayGiri-f5j  2025-02-10T03:16:53Z           0  \n",
       "471            @HamaraBharat-k8i  2025-02-10T00:14:21Z           0  \n",
       "472                @unboxinghasa  2025-02-09T21:16:06Z           1  \n",
       "\n",
       "[473 rows x 5 columns]"
      ]
     },
     "execution_count": 63,
     "metadata": {},
     "output_type": "execute_result"
    }
   ],
   "source": [
    "data=pd.read_csv(\"raw_comments.csv\")\n",
    "data"
   ]
  },
  {
   "cell_type": "code",
   "execution_count": 64,
   "id": "3b43041c-c191-48ae-8e09-ba5eae36ede2",
   "metadata": {},
   "outputs": [],
   "source": [
    "def clean_text(text):\n",
    "    text = re.sub(r'<.*?>', '', text)  # Remove HTML tags\n",
    "    text = re.sub(r'[^a-zA-Z0-9\\s]', '', text)  # Remove special characters\n",
    "    text = text.lower().strip()\n",
    "    return text\n",
    "\n",
    "df['cleaned_comment'] = df['comment'].apply(clean_text)\n",
    "df.dropna(subset=['cleaned_comment'], inplace=True)\n"
   ]
  },
  {
   "cell_type": "code",
   "execution_count": 65,
   "id": "588ffbe8-f499-4993-9967-bae03125ca7a",
   "metadata": {},
   "outputs": [],
   "source": [
    "df.to_csv(\"cleaned_comments.csv\", index=False)\n"
   ]
  },
  {
   "cell_type": "code",
   "execution_count": 66,
   "id": "d9ded68a-b482-4e7b-b861-d7164c428089",
   "metadata": {},
   "outputs": [],
   "source": [
    "df['comment_length'] = df['cleaned_comment'].apply(lambda x: len(x.split()))\n",
    "df['contains_emoji'] = df['comment'].apply(lambda x: any(char in x for char in ['😀', '😂', '❤️', '🔥', '😭']))\n",
    "df['word_count'] = df['cleaned_comment'].apply(lambda x: len(x.split()))\n"
   ]
  },
  {
   "cell_type": "code",
   "execution_count": 67,
   "id": "a0019fd0-3647-43fe-a9f2-5af157aeedab",
   "metadata": {},
   "outputs": [
    {
     "name": "stderr",
     "output_type": "stream",
     "text": [
      "[nltk_data] Downloading package vader_lexicon to\n",
      "[nltk_data]     C:\\Users\\Admin\\AppData\\Roaming\\nltk_data...\n",
      "[nltk_data]   Package vader_lexicon is already up-to-date!\n"
     ]
    },
    {
     "name": "stdout",
     "output_type": "stream",
     "text": [
      "✅ Sentiment analysis completed and saved to 'sentiment_analysis_results.csv'\n"
     ]
    }
   ],
   "source": [
    "import pandas as pd\n",
    "import nltk\n",
    "from nltk.sentiment import SentimentIntensityAnalyzer\n",
    "from textblob import TextBlob\n",
    "\n",
    "# Download VADER Lexicon\n",
    "nltk.download('vader_lexicon')\n",
    "\n",
    "# Initialize VADER\n",
    "sia = SentimentIntensityAnalyzer()\n",
    "\n",
    "# Function to ensure input is a valid string\n",
    "def safe_text(text):\n",
    "    if isinstance(text, float) or pd.isna(text):  # Handle NaN and non-string values\n",
    "        return \"\"\n",
    "    return str(text)\n",
    "\n",
    "# Function to get sentiment using VADER\n",
    "def get_vader_sentiment(comment):\n",
    "    comment = safe_text(comment)  # Convert to string\n",
    "    score = sia.polarity_scores(comment)[\"compound\"]\n",
    "    if score > 0.05:\n",
    "        return \"positive\"\n",
    "    elif score < -0.05:\n",
    "        return \"negative\"\n",
    "    else:\n",
    "        return \"neutral\"\n",
    "\n",
    "# Function to get sentiment using TextBlob\n",
    "def get_textblob_sentiment(comment):\n",
    "    comment = safe_text(comment)  # Convert to string\n",
    "    polarity = TextBlob(comment).sentiment.polarity\n",
    "    if polarity > 0:\n",
    "        return \"positive\"\n",
    "    elif polarity < 0:\n",
    "        return \"negative\"\n",
    "    else:\n",
    "        return \"neutral\"\n",
    "\n",
    "# Load cleaned dataset\n",
    "df = pd.read_csv(\"cleaned_comments.csv\")\n",
    "\n",
    "# Ensure 'cleaned_comment' column exists\n",
    "if \"cleaned_comment\" in df.columns:\n",
    "    df[\"vader_sentiment\"] = df[\"cleaned_comment\"].apply(get_vader_sentiment)\n",
    "    df[\"textblob_sentiment\"] = df[\"cleaned_comment\"].apply(get_textblob_sentiment)\n",
    "    df.to_csv(\"sentiment_analysis_results.csv\", index=False)\n",
    "    print(\"✅ Sentiment analysis completed and saved to 'sentiment_analysis_results.csv'\")\n",
    "else:\n",
    "    print(\"❌ Error: 'cleaned_comment' column not found in the dataset. Check your preprocessing steps.\")\n"
   ]
  },
  {
   "cell_type": "code",
   "execution_count": 69,
   "id": "ff3cc5c4-396f-45ce-84ed-f0ce2c4707cb",
   "metadata": {},
   "outputs": [],
   "source": [
    "\n",
    "# Compare VADER vs. TextBlob\n",
    "df[\"agreement\"] = df[\"vader_sentiment\"] == df[\"textblob_sentiment\"]\n",
    "\n",
    "# Calculate agreement percentage\n",
    "agreement_rate = df[\"agreement\"].mean() * 100\n"
   ]
  },
  {
   "cell_type": "code",
   "execution_count": 70,
   "id": "a21f419c-a43e-4cd4-b382-ac0421876387",
   "metadata": {},
   "outputs": [
    {
     "name": "stdout",
     "output_type": "stream",
     "text": [
      "\n",
      "VADER vs. TextBlob Agreement Rate: 80.34%\n",
      "\n",
      "Sample Sentiment Predictions:\n",
      "                                     cleaned_comment vader_sentiment  \\\n",
      "0         i have started this movie at 1140 am today         neutral   \n",
      "1  141  149 epic piece of music shame its not on ...        negative   \n",
      "2                                  part 3can39t wait         neutral   \n",
      "3    wasn39t happy  it killed 3 hours but that39s it        negative   \n",
      "4                                      chani so tuff         neutral   \n",
      "5  we don39t need oscars to get to the green para...         neutral   \n",
      "6  not immersive long boring sets are unimpressiv...        positive   \n",
      "7  dune has set a high bar for scifi blockbusters...        positive   \n",
      "8                                    still here 2025         neutral   \n",
      "9                      best movie of the year period        positive   \n",
      "\n",
      "  textblob_sentiment  \n",
      "0            neutral  \n",
      "1           positive  \n",
      "2            neutral  \n",
      "3           positive  \n",
      "4            neutral  \n",
      "5           negative  \n",
      "6           negative  \n",
      "7           negative  \n",
      "8            neutral  \n",
      "9           positive  \n"
     ]
    }
   ],
   "source": [
    "\n",
    "# Print results\n",
    "print(f\"\\nVADER vs. TextBlob Agreement Rate: {agreement_rate:.2f}%\")\n",
    "print(\"\\nSample Sentiment Predictions:\")\n",
    "print(df[[\"cleaned_comment\", \"vader_sentiment\", \"textblob_sentiment\"]].head(10))\n"
   ]
  },
  {
   "cell_type": "code",
   "execution_count": 13,
   "id": "37e7e16a-e2e1-41ee-98b8-fb2e31afbb16",
   "metadata": {},
   "outputs": [
    {
     "name": "stderr",
     "output_type": "stream",
     "text": [
      "C:\\Users\\Admin\\AppData\\Local\\Temp\\ipykernel_13244\\402145586.py:2: FutureWarning: \n",
      "\n",
      "Passing `palette` without assigning `hue` is deprecated and will be removed in v0.14.0. Assign the `x` variable to `hue` and set `legend=False` for the same effect.\n",
      "\n",
      "  sns.countplot(data=df, x='sentiment', palette='coolwarm')\n"
     ]
    },
    {
     "data": {
      "image/png": "[encoded data removed]",
      "text/plain": [
       "<Figure size 800x500 with 1 Axes>"
      ]
     },
     "metadata": {},
     "output_type": "display_data"
    }
   ],
   "source": [
    "plt.figure(figsize=(8,5))\n",
    "sns.countplot(data=df, x='sentiment', palette='coolwarm')\n",
    "plt.title('Sentiment Distribution')\n",
    "plt.show()\n"
   ]
  },
  {
   "cell_type": "code",
   "execution_count": 14,
   "id": "bb01a04f-3de0-4b7f-9032-bb07a26128cc",
   "metadata": {},
   "outputs": [
    {
     "data": {
      "image/png": "[encoded data removed]",
      "text/plain": [
       "<Figure size 1000x500 with 1 Axes>"
      ]
     },
     "metadata": {},
     "output_type": "display_data"
    }
   ],
   "source": [
    "df[\"published_at\"] = pd.to_datetime(df[\"published_at\"])  # Convert to datetime\n",
    "\n",
    "# Group by Date\n",
    "sentiment_trend = df.groupby(df[\"published_at\"].dt.date)[\"sentiment\"].value_counts().unstack().fillna(0)\n",
    "\n",
    "# Plot Trends\n",
    "sentiment_trend.plot(kind=\"line\", figsize=(10,5))\n",
    "plt.title(\"Sentiment Trends Over Time\")\n",
    "plt.xlabel(\"Date\")\n",
    "plt.ylabel(\"Number of Comments\")\n",
    "plt.legend(title=\"Sentiment\")\n",
    "plt.show()\n"
   ]
  },
  {
   "cell_type": "code",
   "execution_count": 16,
   "id": "c5f97140-827d-41d5-8194-d66b360fdf95",
   "metadata": {
    "scrolled": true
   },
   "outputs": [
    {
     "name": "stdout",
     "output_type": "stream",
     "text": [
      "Top Ranked Movies by Positive Sentiment:\n",
      "sentiment    positive_ratio\n",
      "video_id                   \n",
      "3x77q40hATw        0.480000\n",
      "Way9Dexny3w        0.380000\n",
      "73_1biulkYk        0.370000\n",
      "77vRyWNqZjM        0.250000\n",
      "RFLLuoBCM9I        0.109589\n"
     ]
    }
   ],
   "source": [
    "top_movies = df.groupby('video_id')['sentiment'].value_counts().unstack(fill_value=0)\n",
    "top_movies['positive_ratio'] = top_movies['positive'] / (top_movies['positive'] + top_movies['negative'] + top_movies['neutral'])\n",
    "top_movies = top_movies.sort_values(by='positive_ratio', ascending=False)\n",
    "\n",
    "print(\"Top Ranked Movies by Positive Sentiment:\")\n",
    "print(top_movies[['positive_ratio']])\n"
   ]
  },
  {
   "cell_type": "code",
   "execution_count": null,
   "id": "065863a3-0a3f-43ae-8951-35c31b7c46c6",
   "metadata": {},
   "outputs": [],
   "source": []
  }
 ],
 "metadata": {
  "kernelspec": {
   "display_name": "Python 3 (ipykernel)",
   "language": "python",
   "name": "python3"
  },
  "language_info": {
   "codemirror_mode": {
    "name": "ipython",
    "version": 3
   },
   "file_extension": ".py",
   "mimetype": "text/x-python",
   "name": "python",
   "nbconvert_exporter": "python",
   "pygments_lexer": "ipython3",
   "version": "3.12.6"
  }
 },
 "nbformat": 4,
 "nbformat_minor": 5
}